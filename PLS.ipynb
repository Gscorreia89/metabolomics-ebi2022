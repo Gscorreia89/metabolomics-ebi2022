{
 "cells": [
  {
   "cell_type": "markdown",
   "id": "4610cadb",
   "metadata": {},
   "source": [
    "# PLS regression analysis tutorial"
   ]
  },
  {
   "cell_type": "markdown",
   "id": "8f2a2568",
   "metadata": {},
   "source": [
    "### Import the required packages"
   ]
  },
  {
   "cell_type": "code",
   "execution_count": null,
   "id": "760e527e",
   "metadata": {},
   "outputs": [],
   "source": [
    "import pandas as pds\n",
    "import numpy as np\n",
    "from sklearn.cross_decomposition import PLSRegression\n",
    "from sklearn.preprocessing import StandardScaler\n",
    "from sklearn.model_selection import KFold, cross_val_predict, permutation_test_score\n",
    "from sklearn.metrics import r2_score\n",
    "from sklearn.pipeline import Pipeline\n",
    "import plotly.express as px"
   ]
  },
  {
   "cell_type": "markdown",
   "id": "b2cab412",
   "metadata": {},
   "source": [
    "### Load the example dataset using pandas"
   ]
  },
  {
   "cell_type": "code",
   "execution_count": null,
   "id": "ef3ffcc3",
   "metadata": {},
   "outputs": [],
   "source": [
    "lcMSData = pds.read_csv('./Data/Dementia_RPOS_XCMS.csv')"
   ]
  },
  {
   "cell_type": "code",
   "execution_count": null,
   "id": "ff8e4aec",
   "metadata": {},
   "outputs": [],
   "source": [
    "# Read the retention time and m/z value from feature names\n",
    "featuresData = pds.DataFrame([(float(x.split('_')[0]), float(x.split('_')[1][:-3])) for x in lcMSData.columns[11:]], columns=['Rt', 'mz'])\n",
    "featuresData['Rt'] = featuresData['Rt']/60\n",
    "medianSpectrum = np.median(lcMSData.iloc[:, 11:].values, axis=0)\n",
    "\n",
    "# Use log of median spectra as intensity value for the scatterplot\n",
    "featuresData['Median'] = np.log(medianSpectrum + 1)\n",
    "#featuresData['Median'] = medianSpectrum "
   ]
  },
  {
   "cell_type": "markdown",
   "id": "fe9cb5e6",
   "metadata": {},
   "source": [
    "## PLS regression model"
   ]
  },
  {
   "cell_type": "markdown",
   "id": "43499aab",
   "metadata": {},
   "source": [
    "Fit a PLS regression model to predict age (Y) using the LC-MS profiles."
   ]
  },
  {
   "cell_type": "code",
   "execution_count": null,
   "id": "555597e1",
   "metadata": {},
   "outputs": [],
   "source": [
    "XDataMatrix = lcMSData.iloc[:, 11:].values\n",
    "\n",
    "logXDataMatrix = np.log(XDataMatrix + 1)\n",
    "\n",
    "YAge = lcMSData['Age'].values"
   ]
  },
  {
   "cell_type": "code",
   "execution_count": null,
   "id": "c17b24f7",
   "metadata": {},
   "outputs": [],
   "source": [
    "# Scaling will be handled with sckit-learn StandardScaler()\n",
    "plsModel = Pipeline(steps=[('uv_scale', StandardScaler()), ('PLS', PLSRegression(n_components=2, scale=False))])\n",
    "\n",
    "# To switch off scaling use this line instead\n",
    "# plsModel = PLSRegression(n_components=2, scale=False)\n",
    "\n",
    "# Fit the PLS model\n",
    "plsModel.fit(logXDataMatrix, YAge)"
   ]
  },
  {
   "cell_type": "code",
   "execution_count": null,
   "id": "f0079909",
   "metadata": {},
   "outputs": [],
   "source": [
    "plsModel"
   ]
  },
  {
   "cell_type": "markdown",
   "id": "1336f632",
   "metadata": {},
   "source": [
    "### PLS regression prediction"
   ]
  },
  {
   "cell_type": "markdown",
   "id": "45aaa0a0",
   "metadata": {},
   "source": [
    "The PLS regression model predicts age (y) based on the metabolic variables in X. The r-squared measure $R^2_Y$ quantifies the model's goodness of fit. "
   ]
  },
  {
   "cell_type": "code",
   "execution_count": null,
   "id": "6f8b98dd",
   "metadata": {},
   "outputs": [],
   "source": [
    "predictFrame = pds.DataFrame(np.c_[plsModel.predict(logXDataMatrix), YAge], columns=['Predicted', 'Age'])\n",
    "\n",
    "fig = px.scatter(predictFrame, x=\"Predicted\", y=\"Age\", render_mode='webgl', \n",
    "                labels={\"Predicted\": \"PLS predicted Age\",\n",
    "                        \"Age\": \"Age\"}, \n",
    "                template='plotly_white')\n",
    "\n",
    "fig.show()\n",
    "\n",
    "\"Variance of Y explained (R2Y): {0}\".format(plsModel.score(logXDataMatrix, YAge))"
   ]
  },
  {
   "cell_type": "markdown",
   "id": "1c8623a9",
   "metadata": {},
   "source": [
    "### PLS scores plot\n",
    "Lets's now examine the PLS scores plot, the lower dimensional projections."
   ]
  },
  {
   "cell_type": "code",
   "execution_count": null,
   "id": "1d7acd5d",
   "metadata": {},
   "outputs": [],
   "source": [
    "T_scores = plsModel.transform(XDataMatrix)\n",
    "\n",
    "# Assemble a pandas data frame with the scores for each component and then combine with study variables\n",
    "plsResultsDFrame = pds.DataFrame(T_scores, columns=['PLS T' + str(x+1) for x in range(T_scores.shape[1])])\n",
    "plsResultsDFrame = pds.concat([lcMSData.loc[:, ['Subject ID', 'Sample ID', 'Age', 'Gender', 'Run Order', 'Acquisition batch']], plsResultsDFrame], axis=1)"
   ]
  },
  {
   "cell_type": "code",
   "execution_count": null,
   "id": "b33b36fd",
   "metadata": {},
   "outputs": [],
   "source": [
    "fig = px.scatter(plsResultsDFrame, x=\"PLS T1\", y=\"PLS T2\", color=\"Age\",\n",
    "                 render_mode='webgl', color_continuous_scale='haline',\n",
    "                template='plotly_white')\n",
    "\n",
    "fig.show()"
   ]
  },
  {
   "cell_type": "markdown",
   "id": "11a268d4",
   "metadata": {},
   "source": [
    "### Model interpretation and variable importance\n",
    "\n",
    "The main parameters to assess variable importance in a PLS model are the weights $w$, the loadings $p$, and regression coefficients $\\beta$.\n",
    "\n",
    "The weights convey the covariance shared directly by the X variables with Y. Each component has its own weight vector, with values varying between -1 (strong negative-covariance) and 1 (strong covariance), with 0 meaning no association/covariance. The weight vector of the first component (which explains the most variation in Y) is the primary weight vector to analyze when interpreting the main variables of X associed with Y.\n",
    "\n",
    "Loadings should be used like PCA loadings, to interpret the directions in the PLS score plots. Each PLS component has its own loading vector.\n",
    "\n",
    "The regression coefficients ($\\beta$) have a similar interpretation as regression coefficients in a multivariate/multiple linear regression. There is only one vector of coefficients for the entire model."
   ]
  },
  {
   "cell_type": "code",
   "execution_count": null,
   "id": "ef38db7e",
   "metadata": {},
   "outputs": [],
   "source": [
    "# Loadings p - x_loadings_\n",
    "# Weights w - x_weights_\n",
    "# Regression coefficients - coef_\n",
    "\n",
    "fig = px.scatter(featuresData, x=\"Rt\", y=\"mz\", color=plsModel['PLS'].x_weights_[:, 0], render_mode='webgl', \n",
    "                color_continuous_scale='RdBu', color_continuous_midpoint=0,\n",
    "                labels={\"Rt\": \"Retention time (min)\",\n",
    "                        \"mz\": \"m/z\"}, \n",
    "                template='plotly_white')\n",
    "\n",
    "fig.show()"
   ]
  },
  {
   "cell_type": "markdown",
   "id": "a509d0ff",
   "metadata": {},
   "source": [
    "### Model validation and overfitting\n",
    "\n",
    "We will use cross-validation (7-Fold cross-validation) to select the optimal number of PLS components to use and obtain more reliable model performance estimates. The r-squared values will be calculated on external test set data (data not used to fit the model)."
   ]
  },
  {
   "cell_type": "code",
   "execution_count": null,
   "id": "b56b43fa",
   "metadata": {},
   "outputs": [],
   "source": [
    "# Set up the PLS model with 'uv' scaling\n",
    "plsModel = Pipeline(steps=[('uv_scale', StandardScaler()), ('PLS', PLSRegression(scale=False))])"
   ]
  },
  {
   "cell_type": "code",
   "execution_count": null,
   "id": "ef19d2f7",
   "metadata": {},
   "outputs": [],
   "source": [
    "# Define a function to fit and cross-validate a PLS model\n",
    "def crossValidate_PLS(x, y, n_components=2, scale=True, cv=KFold(7, shuffle=True)):\n",
    "    \n",
    "    if scale is True:\n",
    "        plsModel = Pipeline(steps=[('uv_scale', StandardScaler()), \n",
    "                                   ('PLS', PLSRegression(n_components=n_components, scale=False))])\n",
    "    else:\n",
    "        plsModel = Pipeline(steps=[('PLS', PLSRegression(n_components=n_components, scale=False))])\n",
    "        \n",
    "    cvResults = {'r2':[]}\n",
    "    \n",
    "    # Iterate through CV rounds\n",
    "    for trainIdx, testIdx in cv.split(x):\n",
    "        \n",
    "        # Fit the PLS model on training set\n",
    "        plsModel.fit(x[trainIdx, :], y[trainIdx])\n",
    "        # test\n",
    "        cvResults['r2'].append(r2_score(y[testIdx], plsModel.predict(x[testIdx, :])))\n",
    "        \n",
    "    cvResults = {key: np.array(value) for key, value in cvResults.items()}\n",
    "    return pds.DataFrame(cvResults)"
   ]
  },
  {
   "cell_type": "code",
   "execution_count": null,
   "id": "43e22c7c",
   "metadata": {},
   "outputs": [],
   "source": [
    "cvResults = crossValidate_PLS(logXDataMatrix, YAge, n_components=2, scale=True, cv=KFold(7, shuffle=True))"
   ]
  },
  {
   "cell_type": "markdown",
   "id": "c93c1081",
   "metadata": {},
   "source": [
    "The result of the 7-Fold CV process is 7 instances of the classifier performance metrics chosen (r2). "
   ]
  },
  {
   "cell_type": "code",
   "execution_count": null,
   "id": "923642aa",
   "metadata": {},
   "outputs": [],
   "source": [
    "cvResults"
   ]
  },
  {
   "cell_type": "markdown",
   "id": "2952e025",
   "metadata": {},
   "source": [
    "### Selecting the optimal number of components with cross-validation\n",
    "\n",
    "To select the number of PLS components to use, the CV procedure should be applied to models with a varying number of components. The CV metrics will be then used to generate a \"scree plot\"."
   ]
  },
  {
   "cell_type": "code",
   "execution_count": null,
   "id": "d169ccd3",
   "metadata": {},
   "outputs": [],
   "source": [
    "maxNComponents = 10\n",
    "\n",
    "screePLS = [crossValidate_PLS(logXDataMatrix, YAge, n_components=x, scale=True, cv=KFold(7, shuffle=True)) for x in range(1, maxNComponents + 1)]"
   ]
  },
  {
   "cell_type": "code",
   "execution_count": null,
   "id": "fe327ccb",
   "metadata": {},
   "outputs": [],
   "source": [
    "cvPLS_DFrame = list()\n",
    "\n",
    "for ncomp, cv in enumerate(screePLS):\n",
    "    currentNComp = pds.DataFrame(cv)\n",
    "    currentNComp['Ncomp'] = ncomp + 1\n",
    "    cvPLS_DFrame.append(currentNComp)\n",
    "    \n",
    "cvPLS_DFrame = pds.concat(cvPLS_DFrame, axis=0)\n"
   ]
  },
  {
   "cell_type": "code",
   "execution_count": null,
   "id": "37d72c7b",
   "metadata": {},
   "outputs": [],
   "source": [
    "fig = px.box(cvPLS_DFrame, x='Ncomp', y='r2', # points=\"all\",\n",
    "             labels={\"Ncomp\": \"Number of components\",\n",
    "                        \"auc\": \"ROC AUC\"}, template='plotly_white')\n",
    "\n",
    "fig.show()"
   ]
  },
  {
   "cell_type": "markdown",
   "id": "05b40f59",
   "metadata": {},
   "source": [
    "The gains in model performance after 3 components are small, and the r2 values become slightly more unstable. We will select 3 as the optimal number of components."
   ]
  },
  {
   "cell_type": "markdown",
   "id": "5547bc2e",
   "metadata": {},
   "source": [
    "### Fit model with optimal number of PLS components"
   ]
  },
  {
   "cell_type": "code",
   "execution_count": null,
   "id": "a681de9c",
   "metadata": {},
   "outputs": [],
   "source": [
    "plsModel = Pipeline(steps=[('uv_scale', StandardScaler()), ('PLS', PLSRegression(n_components=3))])\n",
    "\n",
    "# Fit the PLS Model\n",
    "plsModel.fit(logXDataMatrix, YAge)"
   ]
  },
  {
   "cell_type": "code",
   "execution_count": null,
   "id": "a3fbb328",
   "metadata": {},
   "outputs": [],
   "source": [
    "cvResults = crossValidate_PLS(logXDataMatrix, YAge, n_components=3, scale=True, cv=KFold(7, shuffle=True))"
   ]
  },
  {
   "cell_type": "markdown",
   "id": "a16a3431",
   "metadata": {},
   "source": [
    "These cross-validated metrics are better estimates of the expected model performance."
   ]
  },
  {
   "cell_type": "code",
   "execution_count": null,
   "id": "de5395ee",
   "metadata": {},
   "outputs": [],
   "source": [
    "pds.DataFrame(np.c_[cvResults.mean(), cvResults.std()], columns=['Mean', 'Stdev'], index=cvResults.columns)"
   ]
  },
  {
   "cell_type": "code",
   "execution_count": null,
   "id": "b50d5e33",
   "metadata": {},
   "outputs": [],
   "source": [
    "\"Variance of Y explained (R2Y), estimated without CV: {0}\".format(plsModel.score(logXDataMatrix, YAge))"
   ]
  },
  {
   "cell_type": "markdown",
   "id": "84047763",
   "metadata": {},
   "source": [
    "The CV estimated r2 is much smaller - 0.29 vs 0.87...\n",
    "\n",
    "Lets now revisit the model predictions plot using cross-validated predictions."
   ]
  },
  {
   "cell_type": "code",
   "execution_count": null,
   "id": "c7864567",
   "metadata": {},
   "outputs": [],
   "source": [
    "cvPredictions = cross_val_predict(plsModel, logXDataMatrix, YAge, cv=KFold(n_splits=7, shuffle=True))"
   ]
  },
  {
   "cell_type": "code",
   "execution_count": null,
   "id": "fcd79cbe",
   "metadata": {},
   "outputs": [],
   "source": [
    "predictFrame = pds.DataFrame(np.c_[cvPredictions, YAge], columns=['Predicted', 'Age'])\n",
    "\n",
    "fig = px.scatter(predictFrame, x=\"Predicted\", y=\"Age\", render_mode='webgl', \n",
    "                labels={\"Predicted\": \"PLS predicted Age\",\n",
    "                        \"Age\": \"Age\"}, \n",
    "                template='plotly_white')\n",
    "\n",
    "fig.show()"
   ]
  },
  {
   "cell_type": "markdown",
   "id": "46543dba",
   "metadata": {},
   "source": [
    "**Summary**: Although with cross-validation we have evidence that there is some robust predictive association between metabolic profile and age, the strength of this association (measured by the $R^2_y$) is overestimated."
   ]
  },
  {
   "cell_type": "markdown",
   "id": "7550c0b0",
   "metadata": {},
   "source": [
    "### Permutation randomisation test\n",
    "\n",
    "A final and very important method for model validation is the permutation randomization test. In a permutation randomisation test, the model will be refitted and assessed multiple times, but each time with the Y randomly permuted to destroy any relationship between X & Y. This allows us to assess what sort of model we can get when there really is no relationship between the two data matrices, and calculate the likelihood of obtaining a model with predictive performance as good as the non-permuted model by chance alone.\n",
    "\n",
    "During this test, the number of components, scaling, type of cross-validation employed, and any other modeling choice is kept constant. In each randomization, the model is refitted, and the performance and model validation metric recorded. This enables the generation of permuted null distributions for these metrics, which can be used to obtain an empirical p-value for their significance.\n",
    "\n",
    "**Note**: Running the permutation test with a large number of permutation randomizations (for example, 1000) is expected to take a considerable ammount of time (> 30 mins on a laptop)."
   ]
  },
  {
   "cell_type": "code",
   "execution_count": null,
   "id": "89bb08af",
   "metadata": {},
   "outputs": [],
   "source": [
    "permutationTest = permutation_test_score(plsModel, logXDataMatrix, YAge, cv=KFold(n_splits=7, shuffle=True), n_permutations=250, n_jobs=4)"
   ]
  },
  {
   "cell_type": "markdown",
   "id": "f8d52214",
   "metadata": {},
   "source": [
    "Histogram of results from permuted (null) models. The vertical line represents the cross-validated $R^2_y$ value obtained in the \"real\" model. **Note**: The numerical precision of the p-value estimate is dependent on the number of permutations used."
   ]
  },
  {
   "cell_type": "code",
   "execution_count": null,
   "id": "378115a4",
   "metadata": {},
   "outputs": [],
   "source": [
    "fig = px.histogram(pds.DataFrame(permutationTest[1], columns=['r2']), x='r2', nbins=20)\n",
    "\n",
    "fig.add_vline(x=permutationTest[0], line_dash=\"dash\")\n",
    "fig.show()\n",
    "\"Permutation p-value ~ {0}\".format(permutationTest[2])"
   ]
  },
  {
   "cell_type": "code",
   "execution_count": null,
   "id": "9fd15df1",
   "metadata": {},
   "outputs": [],
   "source": []
  }
 ],
 "metadata": {
  "kernelspec": {
   "display_name": "Python 3 (ipykernel)",
   "language": "python",
   "name": "python3"
  },
  "language_info": {
   "codemirror_mode": {
    "name": "ipython",
    "version": 3
   },
   "file_extension": ".py",
   "mimetype": "text/x-python",
   "name": "python",
   "nbconvert_exporter": "python",
   "pygments_lexer": "ipython3",
   "version": "3.9.0"
  }
 },
 "nbformat": 4,
 "nbformat_minor": 5
}
