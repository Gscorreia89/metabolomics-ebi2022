{
 "cells": [
  {
   "cell_type": "markdown",
   "id": "74be10af",
   "metadata": {},
   "source": [
    "# PCA tutorial"
   ]
  },
  {
   "cell_type": "markdown",
   "id": "da4329df",
   "metadata": {},
   "source": [
    "### Import the required packages"
   ]
  },
  {
   "cell_type": "code",
   "execution_count": null,
   "id": "d896d35c",
   "metadata": {},
   "outputs": [],
   "source": [
    "import pandas as pds\n",
    "import numpy as np\n",
    "from sklearn.decomposition import PCA\n",
    "from sklearn.pipeline import Pipeline\n",
    "from sklearn.preprocessing import StandardScaler\n",
    "import seaborn as sns\n",
    "import plotly.express as px"
   ]
  },
  {
   "cell_type": "markdown",
   "id": "f82a73e2",
   "metadata": {},
   "source": [
    "### Load the example dataset using pandas"
   ]
  },
  {
   "cell_type": "code",
   "execution_count": null,
   "id": "e65133e5",
   "metadata": {},
   "outputs": [],
   "source": [
    "lcMSData = pds.read_csv('./Data/Dementia_RPOS_XCMS.csv')"
   ]
  },
  {
   "cell_type": "code",
   "execution_count": null,
   "id": "80341213",
   "metadata": {},
   "outputs": [],
   "source": [
    "# Read the retention time and m/z value from feature names\n",
    "featuresData = pds.DataFrame([(float(x.split('_')[0]), float(x.split('_')[1][:-3])) for x in lcMSData.columns[11:]], columns=['Rt', 'mz'])\n",
    "featuresData['Rt'] = featuresData['Rt']/60\n",
    "medianSpectrum = np.median(lcMSData.iloc[:, 11:].values, axis=0)\n",
    "\n",
    "# Use log of median spectra as intensity value for the scatterplot\n",
    "featuresData['Median'] = np.log(medianSpectrum + 1)\n",
    "#featuresData['Median'] = medianSpectrum "
   ]
  },
  {
   "cell_type": "markdown",
   "id": "e878da20",
   "metadata": {},
   "source": [
    "## PCA\n",
    "\n",
    "We will start by fitting a PCA model with 4 components to the log transformed data matrix."
   ]
  },
  {
   "cell_type": "code",
   "execution_count": null,
   "id": "06e706a5",
   "metadata": {},
   "outputs": [],
   "source": [
    "XDataMatrix = lcMSData.iloc[:, 11:]\n",
    "\n",
    "logXDataMatrix = np.log(XDataMatrix + 1)"
   ]
  },
  {
   "cell_type": "code",
   "execution_count": null,
   "id": "a7bf1bfa",
   "metadata": {},
   "outputs": [],
   "source": [
    "pcaModel = Pipeline(steps=[('uv', StandardScaler()), ('PCA', PCA(n_components=4))])\n",
    "# Without scaling\n",
    "# pcaModel = Pipeline(steps=[('PCA', PCA(n_components=4))])\n",
    "\n",
    "# Fit the PCA model\n",
    "pcaModel.fit(logXDataMatrix)"
   ]
  },
  {
   "cell_type": "code",
   "execution_count": null,
   "id": "a947d266",
   "metadata": {},
   "outputs": [],
   "source": [
    "P_loadings = pcaModel['PCA'].components_\n",
    "T_scores = pcaModel.transform(logXDataMatrix)\n",
    "\n",
    "# Assemble a pandas data frame with the scores for each component and then combine with study variables\n",
    "pcaResultsDFrame = pds.DataFrame(T_scores, columns=['PC' + str(x+1) for x in range(T_scores.shape[1])])\n",
    "pcaResultsDFrame = pds.concat([lcMSData.loc[:, ['Subject ID', 'Sample ID', 'Age', 'Gender', 'Run Order', 'Acquisition batch']], pcaResultsDFrame], axis=1)"
   ]
  },
  {
   "cell_type": "code",
   "execution_count": null,
   "id": "731273bf",
   "metadata": {},
   "outputs": [],
   "source": [
    "fig = px.scatter(pcaResultsDFrame, x=\"PC1\", y=\"PC2\", color=\"Gender\", render_mode='webgl', \n",
    "                template='plotly_white')\n",
    "fig.show()"
   ]
  },
  {
   "cell_type": "markdown",
   "id": "1ae59d04",
   "metadata": {},
   "source": [
    "### Plot model loadings _(p)_"
   ]
  },
  {
   "cell_type": "code",
   "execution_count": null,
   "id": "cdbbba59",
   "metadata": {},
   "outputs": [],
   "source": [
    "LoadingsPlotFrame = pds.DataFrame(P_loadings.T, columns=['PC' + str(x+1) for x in range(P_loadings.shape[0])])\n",
    "LoadingsPlotFrame = pds.concat([featuresData, LoadingsPlotFrame], axis=1)"
   ]
  },
  {
   "cell_type": "code",
   "execution_count": null,
   "id": "22fadb65",
   "metadata": {},
   "outputs": [],
   "source": [
    "fig = px.scatter(LoadingsPlotFrame, x=\"Rt\", y=\"mz\", color=\"PC1\", render_mode='webgl', \n",
    "                color_continuous_scale='RdBu', color_continuous_midpoint=0,\n",
    "                labels={\"Rt\": \"Retention time (min)\",\n",
    "                        \"mz\": \"m/z\"}, \n",
    "                template='plotly_white')\n",
    "\n",
    "fig.show()"
   ]
  },
  {
   "cell_type": "markdown",
   "id": "b0192542",
   "metadata": {},
   "source": [
    "### Choosing the number of components"
   ]
  },
  {
   "cell_type": "code",
   "execution_count": null,
   "id": "1a9be3cb",
   "metadata": {},
   "outputs": [],
   "source": [
    "pcaModel = Pipeline(steps=[('uv', StandardScaler()), ('PCA', PCA(n_components=10))])\n",
    "\n",
    "# Fit the PCA model\n",
    "pcaModel.fit(logXDataMatrix)"
   ]
  },
  {
   "cell_type": "markdown",
   "id": "fba0ff9d",
   "metadata": {},
   "source": [
    "A scree plot is a plot of the variance explained by each component. \n",
    "\n",
    "For exploratory data analysis, the choice of components is not so critical."
   ]
  },
  {
   "cell_type": "code",
   "execution_count": null,
   "id": "9ff05877",
   "metadata": {},
   "outputs": [],
   "source": [
    "# Assemble the variance explained info in a dataframe\n",
    "ScreeDataFrame = pds.DataFrame(np.c_[pcaModel['PCA'].explained_variance_ratio_, \n",
    "                                     pcaModel['PCA'].explained_variance_ratio_.cumsum(), \n",
    "                                     np.arange(1, 11)], columns=['VarianceExplained', 'CumulativeVarianceExplained', 'Number of PCs'])"
   ]
  },
  {
   "cell_type": "code",
   "execution_count": null,
   "id": "fd6bb941",
   "metadata": {},
   "outputs": [],
   "source": [
    "fig = px.bar(ScreeDataFrame, x='Number of PCs', y='VarianceExplained', template='plotly_white')\n",
    "fig.show()"
   ]
  },
  {
   "cell_type": "markdown",
   "id": "ee2a08b6",
   "metadata": {},
   "source": [
    "It's also common to plot the cumulative variance profile."
   ]
  },
  {
   "cell_type": "code",
   "execution_count": null,
   "id": "dbdf8068",
   "metadata": {},
   "outputs": [],
   "source": [
    "fig = px.bar(ScreeDataFrame, x='Number of PCs', y='CumulativeVarianceExplained', template='plotly_white')\n",
    "fig.show()"
   ]
  }
 ],
 "metadata": {
  "kernelspec": {
   "display_name": "Python 3 (ipykernel)",
   "language": "python",
   "name": "python3"
  },
  "language_info": {
   "codemirror_mode": {
    "name": "ipython",
    "version": 3
   },
   "file_extension": ".py",
   "mimetype": "text/x-python",
   "name": "python",
   "nbconvert_exporter": "python",
   "pygments_lexer": "ipython3",
   "version": "3.9.0"
  }
 },
 "nbformat": 4,
 "nbformat_minor": 5
}
